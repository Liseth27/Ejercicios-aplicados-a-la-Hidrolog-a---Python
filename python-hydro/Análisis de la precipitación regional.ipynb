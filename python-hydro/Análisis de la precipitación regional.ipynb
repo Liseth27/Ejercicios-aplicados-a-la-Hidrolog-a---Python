{
 "cells": [
  {
   "cell_type": "code",
   "execution_count": 2,
   "metadata": {},
   "outputs": [
    {
     "name": "stdout",
     "output_type": "stream",
     "text": [
      "Populating the interactive namespace from numpy and matplotlib\n"
     ]
    },
    {
     "data": {
      "text/plain": [
       "array([[    nan,     nan,     nan,     nan,     nan],\n",
       "       [ -76.25,  -10.68, 4334.  ,     nan, 1052.04],\n",
       "       [ -75.75,   -9.9 , 1860.  ,     nan,  378.  ],\n",
       "       [ -76.78,   -9.55, 3430.  ,     nan,  702.  ],\n",
       "       [ -77.36,  -10.06, 3950.  ,     nan,  755.04],\n",
       "       [ -75.53,  -10.03,  680.  ,     nan, 2424.96],\n",
       "       [ -75.9 ,  -11.48, 3632.  ,     nan,  735.96],\n",
       "       [ -77.43,   -9.73, 3561.  ,     nan,  744.96],\n",
       "       [ -76.21,  -11.63, 4193.  ,     nan,  741.  ],\n",
       "       [ -75.93,  -11.55, 3750.  ,     nan,  567.  ],\n",
       "       [ -75.13,  -10.61, 1050.  ,     nan, 3096.96],\n",
       "       [ -75.3 ,  -11.13,  800.  ,     nan, 2007.96],\n",
       "       [ -77.83,  -10.68,   46.  ,     nan,    9.96],\n",
       "       [ -76.38,  -11.83, 2379.  ,     nan,  237.96],\n",
       "       [ -75.95,   -9.13,  669.  ,     nan, 3203.04],\n",
       "       [ -77.51,   -9.5 , 3050.  ,     nan,  579.  ],\n",
       "       [ -74.9 ,  -10.3 ,  301.  ,     nan, 3309.  ],\n",
       "       [ -77.6 ,   -9.35, 2760.  ,     nan,  737.04],\n",
       "       [ -78.05,  -10.28,  100.  ,     nan,    6.  ],\n",
       "       [ -74.93,   -9.86,  250.  ,     nan, 1701.96],\n",
       "       [ -75.46,  -11.78, 3322.  ,     nan,  714.  ]])"
      ]
     },
     "execution_count": 2,
     "metadata": {},
     "output_type": "execute_result"
    }
   ],
   "source": [
    "%pylab inline\n",
    "import numpy as np\n",
    "import matplotlib.pyplot as plt\n",
    "datos = np.genfromtxt('DatosEstaciones.csv', delimiter=\",\")\n",
    "datos\n"
   ]
  },
  {
   "cell_type": "code",
   "execution_count": 4,
   "metadata": {},
   "outputs": [],
   "source": [
    "#Primera fila, nombres de columnas: longitud, latitud, elevación, nombre y precipitación anual.\n"
   ]
  },
  {
   "cell_type": "code",
   "execution_count": 5,
   "metadata": {},
   "outputs": [],
   "source": [
    "#GRAFICA DE VALORES POR SEPARADO\n"
   ]
  },
  {
   "cell_type": "code",
   "execution_count": 6,
   "metadata": {},
   "outputs": [
    {
     "data": {
      "image/png": "[encoded data removed]",
      "text/plain": [
       "<Figure size 432x288 with 1 Axes>"
      ]
     },
     "metadata": {
      "needs_background": "light"
     },
     "output_type": "display_data"
    }
   ],
   "source": [
    "plt.scatter(datos[:,0],datos[:,1], marker=\"o\", s=datos[:,4])\n",
    "plt.savefig('puntosconmagnitud.png')"
   ]
  },
  {
   "cell_type": "code",
   "execution_count": null,
   "metadata": {},
   "outputs": [],
   "source": []
  }
 ],
 "metadata": {
  "kernelspec": {
   "display_name": "Python 3",
   "language": "python",
   "name": "python3"
  },
  "language_info": {
   "codemirror_mode": {
    "name": "ipython",
    "version": 3
   },
   "file_extension": ".py",
   "mimetype": "text/x-python",
   "name": "python",
   "nbconvert_exporter": "python",
   "pygments_lexer": "ipython3",
   "version": "3.8.5"
  }
 },
 "nbformat": 4,
 "nbformat_minor": 4
}
